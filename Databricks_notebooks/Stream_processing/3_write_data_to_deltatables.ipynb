{
 "cells": [
  {
   "cell_type": "markdown",
   "metadata": {},
   "source": [
    "# Write data to Delta tables"
   ]
  },
  {
   "cell_type": "code",
   "execution_count": null,
   "metadata": {
    "vscode": {
     "languageId": "plaintext"
    }
   },
   "outputs": [],
   "source": [
    "\"\"\"\n",
    "Writes streaming data to Delta tables\n",
    "\n",
    "Parameters:\n",
    "- dataframe (dataframe): Dataframe to be written to Delta table\n",
    "- name (str): The name of the data\n",
    "\"\"\"\n",
    "\n",
    "def write_df_to_deltatable(dataframe, name: str):\n",
    "    dataframe.writeStream \\\n",
    "        .format(\"delta\") \\\n",
    "        .queryName(f\"df_128a59195de3_{name}_streaming_query\") \\\n",
    "        .outputMode(\"append\") \\\n",
    "        .option(\"checkpointLocation\", f\"/tmp/checkpoints/128a59195de3_{name}_table/\") \\\n",
    "        .table(f\"128a59195de3_{name}_table\")\n",
    "\n",
    "write_df_to_deltatable(df_128a59195de3_pin, \"pin\")\n",
    "write_df_to_deltatable(df_128a59195de3_geo, \"geo\")\n",
    "write_df_to_deltatable(df_128a59195de3_user, \"user\")\n"
   ]
  }
 ],
 "metadata": {
  "language_info": {
   "name": "python"
  }
 },
 "nbformat": 4,
 "nbformat_minor": 2
}
