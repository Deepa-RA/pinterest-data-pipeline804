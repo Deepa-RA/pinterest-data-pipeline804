{
 "cells": [
  {
   "cell_type": "markdown",
   "metadata": {},
   "source": [
    "# Clean Dataframes\n",
    "\n",
    "## Clean df_128a59195de3_pin dataframe"
   ]
  },
  {
   "cell_type": "code",
   "execution_count": null,
   "metadata": {
    "vscode": {
     "languageId": "plaintext"
    }
   },
   "outputs": [],
   "source": [
    "# Replace empty/irrelevant entries with `Nones`\n",
    "\n",
    "\"\"\"\n",
    "Define method to replace empty/irrelevant entries with `Nones`\n",
    "Parameters:\n",
    "dataframe - dataframe to clean\n",
    "column - name of column to replace values\n",
    "entry_to_replace - entries that need to be replaced\n",
    "\"\"\"\n",
    "def replace_bad_entries(dataframe, column, entry_to_replace):\n",
    "    dataframe = dataframe.withColumn(column, when(col(column).like(entry_to_replace), None).otherwise(col(column)))\n",
    "    return dataframe\n",
    "\n",
    "\"\"\"\n",
    "Dictionary with column and entries to replace pairs\n",
    "\"\"\"\n",
    "column_entrytoreplace = {\n",
    "    \"description\": \"No description available%\",\n",
    "    \"follower_count\": \"User Info Error\",\n",
    "    \"image_src\": \"Image src error.\",\n",
    "    \"poster_name\": \"User Info Error\",\n",
    "    \"tag_list\": \"N,o, ,T,a,g,s, ,A,v,a,i,l,a,b,l,e\",\n",
    "    \"title\": \"No Title Data Available\"\n",
    "}\n",
    "\n",
    "# Create loop to replace empty/irrelevant entries\n",
    "for key, value in column_entrytoreplace.items():\n",
    "    df_128a59195de3_pin = replace_bad_entries(df_128a59195de3_pin, key, value)\n",
    "\n",
    "# Perform transformations of `follower_count` to ensure it is a numerical entry, data type `int`\n",
    "\n",
    "df_128a59195de3_pin = df_128a59195de3_pin.withColumn(\"follower_count\", regexp_replace(\"follower_count\", \"k\", \"000\"))\n",
    "df_128a59195de3_pin = df_128a59195de3_pin.withColumn(\"follower_count\", regexp_replace(\"follower_count\", \"M\", \"000000\"))\n",
    "df_128a59195de3_pin = df_128a59195de3_pin.withColumn(\"follower_count\", col(\"follower_count\").cast(\"integer\"))\n",
    "\n",
    "# Ensure that each column containing numeric data has a numeric data type\n",
    "df_128a59195de3_pin = df_128a59195de3_pin.withColumn(\"downloaded\", df_128a59195de3_pin[\"downloaded\"].cast(\"integer\"))\n",
    "df_128a59195de3_pin= df_128a59195de3_pin.withColumn(\"index\", df_128a59195de3_pin[\"index\"].cast(\"integer\"))\n",
    "\n",
    "# Clean the data in the save_location column to include only the save location path\n",
    "df_128a59195de3_pin = df_128a59195de3_pin.withColumn(\"save_location\", regexp_replace(\"save_location\", \"Local save in \", \"\"))\n",
    "\n",
    "# Rename the index column to ind.\n",
    "df_128a59195de3_pin = df_128a59195de3_pin.withColumnRenamed(\"index\", \"ind\")\n",
    "\n",
    "# Change order of columns\n",
    "df_128a59195de3_pin = df_128a59195de3_pin.select(\"ind\", \"unique_id\", \"title\", \"description\", \"follower_count\", \"poster_name\", \"tag_list\", \"is_image_or_video\", \"image_src\", \"save_location\", \"category\")\n",
    "# Drop dupliccates\n",
    "df_128a59195de3_pin = df_128a59195de3_pin.dropDuplicates()\n",
    "# Display changes\n",
    "df_128a59195de3_pin.printSchema()"
   ]
  },
  {
   "cell_type": "markdown",
   "metadata": {},
   "source": [
    "## Clean df_128a59195de3_geo dataframe"
   ]
  },
  {
   "cell_type": "markdown",
   "metadata": {},
   "source": [
    "# Create new column `coordinates` - an array based on latitude and longitude columns\n",
    "df_128a59195de3_geo = df_128a59195de3_geo.withColumn(\"coordinates\", array(\"latitude\", \"longitude\"))\n",
    "\n",
    "# Drop latitude and longitude columns\n",
    "df_128a59195de3_geo = df_128a59195de3_geo.drop(*[\"latitude\", \"longitude\"])\n",
    "\n",
    "# Convert the timestamp column from a string to a timestamp data type\n",
    "df_128a59195de3_geo = df_128a59195de3_geo.withColumn(\"timestamp\", to_timestamp(\"timestamp\"))\n",
    "\n",
    "# Reorder the DataFrame columns\n",
    "df_128a59195de3_geo= df_128a59195de3_geo.select('ind', 'country', 'coordinates', 'timestamp')\n",
    "\n",
    "# Drop dupliccates\n",
    "df_128a59195de3_geo = df_128a59195de3_geo.dropDuplicates()\n",
    "\n",
    "# Display changes\n",
    "df_128a59195de3_geo.printSchema()"
   ]
  },
  {
   "cell_type": "markdown",
   "metadata": {},
   "source": [
    "## Clean df_128a59195de3_user dataframe"
   ]
  },
  {
   "cell_type": "code",
   "execution_count": null,
   "metadata": {
    "vscode": {
     "languageId": "plaintext"
    }
   },
   "outputs": [],
   "source": [
    "# Create new column `user_name` - concatenate `first_name` and `last_name`\n",
    "df_128a59195de3_user = df_128a59195de3_user.withColumn(\"user_name\", concat_ws(\" \", col(\"first_name\"), col(\"last_name\")))\n",
    "\n",
    "#Drop first_name and last_name columns\n",
    "df_128a59195de3_user = df_128a59195de3_user.drop(*[\"first_name\", \"last_name\"])\n",
    "\n",
    "# Convert the date_joined column from a string to a timestamp data type\n",
    "df_128a59195de3_user = df_128a59195de3_user.withColumn(\"date_joined\", to_timestamp(\"date_joined\"))\n",
    "\n",
    "# Reorder the DataFrame columns\n",
    "df_128a59195de3_user= df_128a59195de3_user.select('ind', 'user_name', 'age', 'date_joined')\n",
    "\n",
    "# Drop dupliccates\n",
    "df_128a59195de3_user = df_128a59195de3_user.dropDuplicates()\n",
    "# Display changes\n",
    "\n",
    "df_128a59195de3_user.printSchema()"
   ]
  }
 ],
 "metadata": {
  "language_info": {
   "name": "python"
  }
 },
 "nbformat": 4,
 "nbformat_minor": 2
}
